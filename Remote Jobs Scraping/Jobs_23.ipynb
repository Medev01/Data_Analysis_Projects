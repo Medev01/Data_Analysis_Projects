{
 "cells": [
  {
   "attachments": {},
   "cell_type": "markdown",
   "id": "1e732ae7",
   "metadata": {},
   "source": [
    "# Remote Software Development Jobs"
   ]
  },
  {
   "attachments": {},
   "cell_type": "markdown",
   "id": "eba076a9",
   "metadata": {},
   "source": [
    "- import necessary library"
   ]
  },
  {
   "cell_type": "code",
   "execution_count": 1,
   "id": "c5a4b950",
   "metadata": {},
   "outputs": [],
   "source": [
    "from bs4 import BeautifulSoup\n",
    "import csv\n",
    "import time \n",
    "import requests\n",
    "import pandas as pd "
   ]
  },
  {
   "cell_type": "code",
   "execution_count": 2,
   "id": "bd8cfae9",
   "metadata": {},
   "outputs": [],
   "source": [
    "# create the response \n",
    "url_template = 'https://dailyremote.com/remote-software-development-jobs?search=&page={}#main'"
   ]
  },
  {
   "cell_type": "code",
   "execution_count": 3,
   "id": "35e04a22",
   "metadata": {},
   "outputs": [],
   "source": [
    "def get_url(idx):\n",
    "    url = url_template.format(idx)\n",
    "    return url"
   ]
  },
  {
   "cell_type": "code",
   "execution_count": 4,
   "id": "139241ee",
   "metadata": {},
   "outputs": [],
   "source": [
    "url = get_url(1)"
   ]
  },
  {
   "cell_type": "code",
   "execution_count": 5,
   "id": "40854234",
   "metadata": {},
   "outputs": [],
   "source": [
    "headers = {'user-agent': 'Mozilla/5.0 (Windows NT 10.0; Win64; x64) AppleWebKit/537.36 (KHTML, like Gecko) Chrome/110.0.5481.178 Safari/537.36'}\n",
    "page = requests.get(url, headers = headers)\n"
   ]
  },
  {
   "cell_type": "code",
   "execution_count": 6,
   "id": "b60e080b",
   "metadata": {},
   "outputs": [],
   "source": [
    "# craete the soup object \n",
    "soup = BeautifulSoup(page.content, 'lxml')"
   ]
  },
  {
   "cell_type": "code",
   "execution_count": 7,
   "id": "447a8693",
   "metadata": {},
   "outputs": [],
   "source": [
    "cards = soup.find_all('article','card js-card')\n",
    "card = cards[0]"
   ]
  },
  {
   "cell_type": "code",
   "execution_count": 8,
   "id": "52d026a1",
   "metadata": {},
   "outputs": [],
   "source": [
    "# title \n",
    "job_title = card.find('h2','job-position').a.text.strip()\n"
   ]
  },
  {
   "cell_type": "code",
   "execution_count": 9,
   "id": "8b3f197c",
   "metadata": {},
   "outputs": [],
   "source": [
    "# company_name\n",
    "company = card.find('span', {'style': 'margin-right: 8px'}).text.strip()"
   ]
  },
  {
   "cell_type": "code",
   "execution_count": 39,
   "id": "5d8a0a9b",
   "metadata": {},
   "outputs": [
    {
     "data": {
      "text/plain": [
       "'https://dailyremote.com//remote-job/senior-staff-backend-engineer-2944073'"
      ]
     },
     "execution_count": 39,
     "metadata": {},
     "output_type": "execute_result"
    }
   ],
   "source": [
    "# url job \n",
    "job_url = card.find('h2','job-position').a['href']\n",
    "job_url = 'https://dailyremote.com/'+job_url"
   ]
  },
  {
   "cell_type": "code",
   "execution_count": 11,
   "id": "de68d4cf",
   "metadata": {},
   "outputs": [],
   "source": [
    "#job vategory \n",
    "job_category = card.find('span', {'class':'category-tag software-development'}).text"
   ]
  },
  {
   "cell_type": "code",
   "execution_count": 12,
   "id": "cee8665a",
   "metadata": {},
   "outputs": [],
   "source": [
    "# job_type\n",
    "job_type = card.find('span',{'style':'margin-left: 8px; margin-right:8px;'}).text.strip()"
   ]
  },
  {
   "cell_type": "code",
   "execution_count": 13,
   "id": "e67d7f34",
   "metadata": {},
   "outputs": [],
   "source": [
    "#posted date \n",
    "posted_date = card.find('span', {'style':'margin-left:8px'}).text.strip()"
   ]
  },
  {
   "cell_type": "code",
   "execution_count": 14,
   "id": "45c3c9cd",
   "metadata": {},
   "outputs": [],
   "source": [
    "# location  \n",
    "holder = card.find_all(attrs={\"class\": \"meta-holder\"})\n",
    "if len(holder) == 1:\n",
    "    Location = holder[0].text.strip()\n",
    "    salary = ''\n",
    "else:\n",
    "    Location = holder[0].text.strip()\n",
    "    try:\n",
    "        salary = holder[1].text.strip().replace('(US Dollars)','USD')\n",
    "    except AttributeError:\n",
    "        salary = ''"
   ]
  },
  {
   "cell_type": "code",
   "execution_count": 15,
   "id": "5a32f019",
   "metadata": {},
   "outputs": [],
   "source": [
    "try:\n",
    "    requirements = card.find('div',' tag-wrap display-flex items-center').text.replace('\\n',' ').strip()\n",
    "except AttributeError:\n",
    "    requirements = ''"
   ]
  },
  {
   "cell_type": "code",
   "execution_count": 40,
   "id": "9e37d285",
   "metadata": {},
   "outputs": [],
   "source": [
    "#craete function that can add all infos to list\n",
    "records = []\n",
    "def record(row):\n",
    "    job_title = card.find('h2','job-position').a.text.strip()\n",
    "    company = card.find('span', {'style': 'margin-right: 8px'}).text.strip()\n",
    "    job_url = card.find('h2','job-position').a['href']\n",
    "    job_url = 'https://dailyremote.com/'+job_url\n",
    "    job_category = card.find('span', {'class':'category-tag software-development'}).text\n",
    "    job_type = card.find('span',{'style':'margin-left: 8px; margin-right:8px;'}).text.strip()\n",
    "    posted_date = card.find('span', {'style':'margin-left:8px'}).text.strip()\n",
    "    holder = card.find_all(attrs={\"class\": \"meta-holder\"})\n",
    "    if len(holder) == 1:\n",
    "        Location = holder[0].text.strip()\n",
    "        salary = ''\n",
    "    else:\n",
    "        Location = holder[0].text.strip()\n",
    "        try:\n",
    "            salary = holder[1].text.strip().replace('(US Dollars)','USD')\n",
    "        except AttributeError:\n",
    "            salary = ''\n",
    "    try:\n",
    "         requirements = card.find('div',' tag-wrap display-flex items-center').text.replace('\\n',' ').strip()\n",
    "    except AttributeError:\n",
    "         requirements = ''\n",
    "            \n",
    "    infos = [job_title,company,Location,job_category,salary,job_type,requirements,job_url,posted_date]\n",
    "    return infos"
   ]
  },
  {
   "cell_type": "code",
   "execution_count": 41,
   "id": "5e9790e4",
   "metadata": {},
   "outputs": [
    {
     "name": "stdout",
     "output_type": "stream",
     "text": [
      "Mission Done !!\n"
     ]
    }
   ],
   "source": [
    "cols = ['Title','Company','Location','Category','Salary','Type','Requirements','Job_url','Posted date']\n",
    "records = []\n",
    "        \n",
    "for i in range(1,14):\n",
    "    url = f\"https://dailyremote.com/remote-software-development-jobs?search=&page={i}#main\"\n",
    "    headers = {'user-agent': 'Mozilla/5.0 (Windows NT 10.0; Win64; x64) AppleWebKit/537.36 (KHTML, like Gecko) Chrome/110.0.5481.178 Safari/537.36'}\n",
    "    page = requests.get(url, headers = headers)\n",
    "    soup = BeautifulSoup(page.content, 'html.parser')\n",
    "    cards = soup.find_all('article','card js-card') \n",
    "    \n",
    "    # extract infos from each card \n",
    "    for card in cards:\n",
    "        row = record(card)\n",
    "        records.append(row)\n",
    "                \n",
    "# save data into csv file \n",
    "try:\n",
    "    with open('RemoteJobs.csv', 'w',newline='', encoding = 'UTF-8') as f :\n",
    "        writer = csv.writer(f)\n",
    "        writer.writerow(cols)\n",
    "        writer.writerows(records)\n",
    "    print('Mission Done !!')\n",
    "except ValueError:\n",
    "    print('ops There is an error ') \n",
    "    \n",
    "df = pd.DataFrame(records, columns = cols, index=False)\n",
    "\n",
    "#save our data to excel file\n",
    "df.to_excel('result.xlsx', index = False)\n",
    "print('the next Mission Done !!')"
   ]
  },
  {
   "cell_type": "code",
   "execution_count": null,
   "id": "97270d69",
   "metadata": {},
   "outputs": [],
   "source": []
  }
 ],
 "metadata": {
  "kernelspec": {
   "display_name": "Python 3 (ipykernel)",
   "language": "python",
   "name": "python3"
  },
  "language_info": {
   "codemirror_mode": {
    "name": "ipython",
    "version": 3
   },
   "file_extension": ".py",
   "mimetype": "text/x-python",
   "name": "python",
   "nbconvert_exporter": "python",
   "pygments_lexer": "ipython3",
   "version": "3.11.1"
  }
 },
 "nbformat": 4,
 "nbformat_minor": 5
}
